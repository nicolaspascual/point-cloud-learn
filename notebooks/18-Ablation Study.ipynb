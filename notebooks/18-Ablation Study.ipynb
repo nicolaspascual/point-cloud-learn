{
 "cells": [
  {
   "cell_type": "code",
   "execution_count": 1,
   "metadata": {},
   "outputs": [],
   "source": [
    "import sys; sys.path.append('../')\n",
    "import warnings\n",
    "warnings.filterwarnings('ignore')\n",
    "import pickle\n",
    "\n",
    "from glob import glob\n",
    "import pandas as pd\n",
    "import numpy as np\n",
    "from pathlib import Path\n",
    "\n",
    "import matplotlib.pyplot as plt"
   ]
  },
  {
   "cell_type": "code",
   "execution_count": 35,
   "metadata": {},
   "outputs": [],
   "source": [
    "def load_pickle(pickle_path):\n",
    "    try:\n",
    "        with open(pickle_path, 'rb') as fh:\n",
    "            return pickle.load(fh)\n",
    "    except:\n",
    "        return [{'mean_test_score': [0,0]}]\n",
    "    \n",
    "def custom_metric_from_pickle(pickle_path):\n",
    "    res = load_pickle(pickle_path)\n",
    "    tp = np.array(res['tps'])\n",
    "    tp_fn = np.ones(len(tp)) * res['ground_truth']\n",
    "    tp_fp = np.array(res['tp_tfs'])\n",
    "    recall = tp  / tp_fn\n",
    "    precision = tp / tp_fp\n",
    "    return recall * 0.7 + precision * 0.3"
   ]
  },
  {
   "cell_type": "markdown",
   "metadata": {},
   "source": [
    "## Baseline"
   ]
  },
  {
   "cell_type": "code",
   "execution_count": 39,
   "metadata": {},
   "outputs": [
    {
     "data": {
      "text/plain": [
       "0.5879097605893185"
      ]
     },
     "execution_count": 39,
     "metadata": {},
     "output_type": "execute_result"
    }
   ],
   "source": [
    "max(custom_metric_from_pickle('BASELINE.pickle'))"
   ]
  },
  {
   "cell_type": "markdown",
   "metadata": {},
   "source": [
    "## Oversampler"
   ]
  },
  {
   "cell_type": "code",
   "execution_count": 24,
   "metadata": {},
   "outputs": [
    {
     "data": {
      "text/plain": [
       "('./ADASYN.pickle', 0.6556321839080459)"
      ]
     },
     "execution_count": 24,
     "metadata": {},
     "output_type": "execute_result"
    }
   ],
   "source": [
    "max([(f, max(custom_metric_from_pickle(f))) for f in glob('./*.pickle')], key=lambda t: t[1])"
   ]
  },
  {
   "cell_type": "markdown",
   "metadata": {},
   "source": [
    "## Hyper-Parameter tunning"
   ]
  },
  {
   "cell_type": "code",
   "execution_count": 37,
   "metadata": {},
   "outputs": [
    {
     "data": {
      "text/plain": [
       "('../experiments/model_selection/results/LinearDiscriminantAnalysis-ADASYN-results.pickle',\n",
       " 0.6951415721478968)"
      ]
     },
     "execution_count": 37,
     "metadata": {},
     "output_type": "execute_result"
    }
   ],
   "source": [
    "max([\n",
    "    (f, np.nanmean(load_pickle(f)[0]['mean_test_score']))\n",
    "    for f in glob('../experiments/model_selection/results/*results.pickle')\n",
    "], key=lambda t: t[1])"
   ]
  },
  {
   "cell_type": "markdown",
   "metadata": {},
   "source": [
    "## Feature Selection"
   ]
  },
  {
   "cell_type": "code",
   "execution_count": 38,
   "metadata": {},
   "outputs": [
    {
     "data": {
      "text/plain": [
       "('../experiments/feature_selection/results/XGBClassifier-ADASYN-results.pickle',\n",
       " 0.707181167405607)"
      ]
     },
     "execution_count": 38,
     "metadata": {},
     "output_type": "execute_result"
    }
   ],
   "source": [
    "max([\n",
    "    (f, np.nanmean(load_pickle(f)[0]['mean_test_score']))\n",
    "    for f in glob('../experiments/feature_selection/results/*results.pickle')\n",
    "], key=lambda t: t[1])"
   ]
  }
 ],
 "metadata": {
  "kernelspec": {
   "display_name": "Python 3",
   "language": "python",
   "name": "python3"
  },
  "language_info": {
   "codemirror_mode": {
    "name": "ipython",
    "version": 3
   },
   "file_extension": ".py",
   "mimetype": "text/x-python",
   "name": "python",
   "nbconvert_exporter": "python",
   "pygments_lexer": "ipython3",
   "version": "3.7.0"
  }
 },
 "nbformat": 4,
 "nbformat_minor": 2
}
