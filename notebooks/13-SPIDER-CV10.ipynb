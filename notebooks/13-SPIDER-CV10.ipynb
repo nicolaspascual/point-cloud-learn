{
 "cells": [
  {
   "cell_type": "code",
   "execution_count": 8,
   "metadata": {},
   "outputs": [],
   "source": [
    "import sys; sys.path.append('../')\n",
    "import warnings\n",
    "warnings.filterwarnings('ignore')\n",
    "\n",
    "import smote_variants as sv\n",
    "SPIDER = sv.Stefanowski\n",
    "\n",
    "from src.data_loader import load_data\n",
    "\n",
    "import numpy as np\n",
    "import pandas as pd\n",
    "from matplotlib import pyplot as plt\n",
    "\n",
    "from sklearn.metrics import confusion_matrix\n",
    "from sklearn.model_selection import StratifiedKFold"
   ]
  },
  {
   "cell_type": "code",
   "execution_count": 2,
   "metadata": {},
   "outputs": [],
   "source": [
    "plt.rcParams[\"figure.figsize\"] = (20,10)\n",
    "plt.style.use('seaborn-whitegrid')"
   ]
  },
  {
   "cell_type": "code",
   "execution_count": 3,
   "metadata": {},
   "outputs": [],
   "source": [
    "from sklearn.discriminant_analysis import LinearDiscriminantAnalysis\n",
    "from sklearn.neighbors import KNeighborsClassifier\n",
    "from sklearn.naive_bayes import GaussianNB\n",
    "from sklearn.tree import DecisionTreeClassifier, ExtraTreeClassifier\n",
    "from sklearn.ensemble import (AdaBoostClassifier, BaggingClassifier, ExtraTreesClassifier,\n",
    "                              GradientBoostingClassifier, RandomForestClassifier, VotingClassifier)\n",
    "from sklearn.svm import SVC\n",
    "models = [\n",
    "    LinearDiscriminantAnalysis, KNeighborsClassifier, GaussianNB,\n",
    "    DecisionTreeClassifier, ExtraTreeClassifier, AdaBoostClassifier, BaggingClassifier,\n",
    "    ExtraTreesClassifier, GradientBoostingClassifier, RandomForestClassifier, VotingClassifier, SVC\n",
    "]"
   ]
  },
  {
   "cell_type": "markdown",
   "metadata": {},
   "source": [
    "## Cluster Oversampling using SMOTE"
   ]
  },
  {
   "cell_type": "code",
   "execution_count": 4,
   "metadata": {},
   "outputs": [],
   "source": [
    "clusters, _ = load_data('../data/all_clusters.txt')\n",
    "clusters = clusters.drop(['file_origin', 'file_destination'], axis=1).reset_index()"
   ]
  },
  {
   "cell_type": "code",
   "execution_count": 5,
   "metadata": {},
   "outputs": [],
   "source": [
    "#Delete columns with one value\n",
    "for col in clusters.columns:\n",
    "    if len(clusters[col].unique()) == 1:\n",
    "        clusters.drop(col,inplace=True,axis=1)\n",
    "\n",
    "        #Delete columns with one value\n",
    "for col in clusters.columns:\n",
    "    if len(clusters[col].unique()) == 1:\n",
    "        clusters.drop(col,inplace=True,axis=1)\n",
    "\n",
    "clusters['classification'] = (\n",
    "    ((clusters['classification'] != 'Vegetation') & (clusters['classification'] != 'Limit_effect'))\n",
    ")"
   ]
  },
  {
   "cell_type": "code",
   "execution_count": 6,
   "metadata": {},
   "outputs": [],
   "source": [
    "data = clusters.replace('None', np.nan).dropna(axis=0)\n",
    "\n",
    "X = data.drop('classification', axis=1)\n",
    "X = (X - X.mean()) / X.std()\n",
    "y = data['classification']"
   ]
  },
  {
   "cell_type": "code",
   "execution_count": 10,
   "metadata": {
    "collapsed": true
   },
   "outputs": [
    {
     "name": "stderr",
     "output_type": "stream",
     "text": [
      "2019-11-23 17:36:12,681:INFO:Stefanowski: Running sampling via ('Stefanowski', \"{'strategy': 'weak_amp', 'n_jobs': -1}\")\n"
     ]
    },
    {
     "name": "stdout",
     "output_type": "stream",
     "text": [
      "a0 49\n",
      "a1 5379 28\n",
      "a 3\n",
      "a 2\n",
      "a 2\n",
      "a 2\n",
      "a 3\n",
      "a 3\n",
      "a 3\n",
      "a 0\n",
      "a 3\n",
      "a 3\n",
      "a 3\n",
      "a 3\n",
      "a 3\n",
      "a 3\n",
      "a 3\n",
      "a 1\n",
      "a 0\n",
      "a 1\n",
      "a 3\n",
      "5379 9 44 weak_amp\n"
     ]
    },
    {
     "name": "stderr",
     "output_type": "stream",
     "text": [
      "2019-11-23 17:36:17,492:INFO:Stefanowski: Running sampling via ('Stefanowski', \"{'strategy': 'weak_amp', 'n_jobs': -1}\")\n"
     ]
    },
    {
     "name": "stdout",
     "output_type": "stream",
     "text": [
      "a0 49\n",
      "a1 5379 28\n",
      "a 3\n",
      "a 2\n",
      "a 2\n",
      "a 3\n",
      "a 2\n",
      "a 0\n",
      "a 3\n",
      "a 3\n",
      "a 2\n",
      "a 3\n",
      "a 3\n",
      "a 3\n",
      "a 3\n",
      "a 3\n",
      "a 3\n",
      "a 1\n",
      "a 1\n",
      "a 2\n",
      "a 3\n",
      "5379 9 45 weak_amp\n"
     ]
    },
    {
     "name": "stderr",
     "output_type": "stream",
     "text": [
      "2019-11-23 17:36:22,676:INFO:Stefanowski: Running sampling via ('Stefanowski', \"{'strategy': 'weak_amp', 'n_jobs': -1}\")\n"
     ]
    },
    {
     "name": "stdout",
     "output_type": "stream",
     "text": [
      "a0 49\n",
      "a1 5379 29\n",
      "a 3\n",
      "a 2\n",
      "a 2\n",
      "a 3\n",
      "a 3\n",
      "a 1\n",
      "a 0\n",
      "a 3\n",
      "a 3\n",
      "a 3\n",
      "a 3\n",
      "a 3\n",
      "a 3\n",
      "a 2\n",
      "a 3\n",
      "a 1\n",
      "a 1\n",
      "a 2\n",
      "a 1\n",
      "5379 10 42 weak_amp\n"
     ]
    },
    {
     "name": "stderr",
     "output_type": "stream",
     "text": [
      "2019-11-23 17:36:27,720:INFO:Stefanowski: Running sampling via ('Stefanowski', \"{'strategy': 'weak_amp', 'n_jobs': -1}\")\n"
     ]
    },
    {
     "name": "stdout",
     "output_type": "stream",
     "text": [
      "a0 49\n",
      "a1 5380 27\n",
      "a 3\n",
      "a 3\n",
      "a 3\n",
      "a 2\n",
      "a 0\n",
      "a 3\n",
      "a 3\n",
      "a 3\n",
      "a 3\n",
      "a 3\n",
      "a 3\n",
      "a 3\n",
      "a 3\n",
      "a 1\n",
      "a 0\n",
      "a 1\n",
      "a 0\n",
      "a 3\n",
      "5380 9 40 weak_amp\n"
     ]
    },
    {
     "name": "stderr",
     "output_type": "stream",
     "text": [
      "2019-11-23 17:36:32,745:INFO:Stefanowski: Running sampling via ('Stefanowski', \"{'strategy': 'weak_amp', 'n_jobs': -1}\")\n"
     ]
    },
    {
     "name": "stdout",
     "output_type": "stream",
     "text": [
      "a0 49\n",
      "a1 5380 29\n",
      "a 3\n",
      "a 3\n",
      "a 2\n",
      "a 3\n",
      "a 3\n",
      "a 2\n",
      "a 0\n",
      "a 3\n",
      "a 3\n",
      "a 3\n",
      "a 3\n",
      "a 3\n",
      "a 3\n",
      "a 3\n",
      "a 1\n",
      "a 0\n",
      "a 2\n",
      "a 3\n",
      "5380 11 43 weak_amp\n"
     ]
    },
    {
     "name": "stderr",
     "output_type": "stream",
     "text": [
      "2019-11-23 17:36:37,809:INFO:Stefanowski: Running sampling via ('Stefanowski', \"{'strategy': 'weak_amp', 'n_jobs': -1}\")\n"
     ]
    },
    {
     "name": "stdout",
     "output_type": "stream",
     "text": [
      "a0 50\n",
      "a1 5381 27\n",
      "a 3\n",
      "a 2\n",
      "a 2\n",
      "a 3\n",
      "a 3\n",
      "a 3\n",
      "a 1\n",
      "a 3\n",
      "a 3\n",
      "a 3\n",
      "a 3\n",
      "a 2\n",
      "a 3\n",
      "a 0\n",
      "a 2\n",
      "a 3\n",
      "5381 11 39 weak_amp\n"
     ]
    },
    {
     "name": "stderr",
     "output_type": "stream",
     "text": [
      "2019-11-23 17:36:42,948:INFO:Stefanowski: Running sampling via ('Stefanowski', \"{'strategy': 'weak_amp', 'n_jobs': -1}\")\n"
     ]
    },
    {
     "name": "stdout",
     "output_type": "stream",
     "text": [
      "a0 50\n",
      "a1 5381 27\n",
      "a 3\n",
      "a 2\n",
      "a 2\n",
      "a 3\n",
      "a 2\n",
      "a 2\n",
      "a 3\n",
      "a 3\n",
      "a 3\n",
      "a 3\n",
      "a 3\n",
      "a 3\n",
      "a 3\n",
      "a 3\n",
      "a 2\n",
      "a 1\n",
      "a 2\n",
      "a 3\n",
      "5381 9 46 weak_amp\n"
     ]
    },
    {
     "name": "stderr",
     "output_type": "stream",
     "text": [
      "2019-11-23 17:36:48,107:INFO:Stefanowski: Running sampling via ('Stefanowski', \"{'strategy': 'weak_amp', 'n_jobs': -1}\")\n"
     ]
    },
    {
     "name": "stdout",
     "output_type": "stream",
     "text": [
      "a0 50\n",
      "a1 5381 29\n",
      "a 3\n",
      "a 2\n",
      "a 2\n",
      "a 2\n",
      "a 3\n",
      "a 3\n",
      "a 2\n",
      "a 3\n",
      "a 3\n",
      "a 3\n",
      "a 3\n",
      "a 3\n",
      "a 3\n",
      "a 3\n",
      "a 3\n",
      "a 2\n",
      "a 2\n",
      "a 0\n",
      "a 2\n",
      "a 3\n",
      "5381 9 50 weak_amp\n"
     ]
    },
    {
     "name": "stderr",
     "output_type": "stream",
     "text": [
      "2019-11-23 17:36:53,443:INFO:Stefanowski: Running sampling via ('Stefanowski', \"{'strategy': 'weak_amp', 'n_jobs': -1}\")\n"
     ]
    },
    {
     "name": "stdout",
     "output_type": "stream",
     "text": [
      "a0 50\n",
      "a1 5381 27\n",
      "a 2\n",
      "a 2\n",
      "a 3\n",
      "a 2\n",
      "a 0\n",
      "a 3\n",
      "a 3\n",
      "a 3\n",
      "a 3\n",
      "a 3\n",
      "a 3\n",
      "a 3\n",
      "a 3\n",
      "a 1\n",
      "a 0\n",
      "a 2\n",
      "a 3\n",
      "5381 10 39 weak_amp\n"
     ]
    },
    {
     "name": "stderr",
     "output_type": "stream",
     "text": [
      "2019-11-23 17:36:58,134:INFO:Stefanowski: Running sampling via ('Stefanowski', \"{'strategy': 'weak_amp', 'n_jobs': -1}\")\n"
     ]
    },
    {
     "name": "stdout",
     "output_type": "stream",
     "text": [
      "a0 50\n",
      "a1 5381 28\n",
      "a 3\n",
      "a 2\n",
      "a 1\n",
      "a 2\n",
      "a 3\n",
      "a 3\n",
      "a 2\n",
      "a 0\n",
      "a 0\n",
      "a 3\n",
      "a 3\n",
      "a 3\n",
      "a 3\n",
      "a 3\n",
      "a 3\n",
      "a 3\n",
      "a 3\n",
      "a 3\n",
      "a 1\n",
      "a 3\n",
      "a 3\n",
      "a 3\n",
      "5381 6 53 weak_amp\n"
     ]
    }
   ],
   "source": [
    "splitter = StratifiedKFold(n_splits=10, shuffle=True, random_state=40)\n",
    "\n",
    "bar_plot = []\n",
    "for train_index, test_index in splitter.split(X, y):\n",
    "    X_train, y_train = SPIDER(n_jobs=-1).sample(X.iloc[train_index].values, y.iloc[train_index].values)\n",
    "    X_test, y_test = X.iloc[test_index], y.iloc[test_index]\n",
    "    \n",
    "    performances = []\n",
    "    for Model in models:\n",
    "        try:\n",
    "            model = Model()\n",
    "            model.fit(X_train, y_train)\n",
    "\n",
    "            y_pred = model.predict(X_test)\n",
    "            performances.append([\n",
    "                Model.__name__, len(y_pred),\n",
    "                sum(y_pred), sum(y_test),\n",
    "                sum(y_test & y_pred)\n",
    "            ])\n",
    "        except Exception as e:\n",
    "            pass\n",
    "    bar_plot.append(performances)"
   ]
  },
  {
   "cell_type": "code",
   "execution_count": 11,
   "metadata": {},
   "outputs": [],
   "source": [
    "tp_tfs, tp_tfs_err, tps, tps_err = [], [], [], []\n",
    "for model_index, model in enumerate([e[0] for e in bar_plot[0]]):\n",
    "    tp_fp, tp = [], []\n",
    "    for split in bar_plot:\n",
    "        tp_fp.append(split[model_index][2])\n",
    "        tp.append(split[model_index][4])\n",
    "\n",
    "    tp_tfs.append(np.array(tp_fp).mean())\n",
    "    tp_tfs_err.append(np.array(tp_fp).std())\n",
    "    tps.append(np.array(tp).mean())\n",
    "    tps_err.append(np.array(tp).std())"
   ]
  },
  {
   "cell_type": "code",
   "execution_count": 12,
   "metadata": {},
   "outputs": [
    {
     "data": {
      "image/png": "[encoded data removed]",
      "text/plain": [
       "<Figure size 1440x720 with 1 Axes>"
      ]
     },
     "metadata": {},
     "output_type": "display_data"
    }
   ],
   "source": [
    "from src.utils.visualization import plot_trues\n",
    "\n",
    "ground_truth = bar_plot[0][0][3]\n",
    "labels = [e[0] for e in bar_plot[0]]\n",
    "plot_trues(\n",
    "    tps=tps, tps_tfs=tp_tfs, gt=ground_truth,\n",
    "    labels=labels, tps_err=tps_err, tps_tfs_err=tp_tfs_err\n",
    ")"
   ]
  }
 ],
 "metadata": {
  "kernelspec": {
   "display_name": "Python 3",
   "language": "python",
   "name": "python3"
  },
  "language_info": {
   "codemirror_mode": {
    "name": "ipython",
    "version": 3
   },
   "file_extension": ".py",
   "mimetype": "text/x-python",
   "name": "python",
   "nbconvert_exporter": "python",
   "pygments_lexer": "ipython3",
   "version": "3.7.2"
  }
 },
 "nbformat": 4,
 "nbformat_minor": 2
}
