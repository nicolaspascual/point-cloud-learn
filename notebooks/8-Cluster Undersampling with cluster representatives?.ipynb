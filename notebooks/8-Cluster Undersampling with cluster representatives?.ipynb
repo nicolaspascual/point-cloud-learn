{
 "cells": [
  {
   "cell_type": "code",
   "execution_count": 1,
   "metadata": {},
   "outputs": [
    {
     "name": "stderr",
     "output_type": "stream",
     "text": [
      "/home/nicolas/.local/share/virtualenvs/point-cloud-learn-qCE1QqFz/lib/python3.7/site-packages/pandas/compat/__init__.py:85: UserWarning: Could not import the lzma module. Your installed Python is incomplete. Attempting to use lzma compression will result in a RuntimeError.\n",
      "  warnings.warn(msg)\n",
      "/home/nicolas/.local/share/virtualenvs/point-cloud-learn-qCE1QqFz/lib/python3.7/site-packages/pandas/compat/__init__.py:85: UserWarning: Could not import the lzma module. Your installed Python is incomplete. Attempting to use lzma compression will result in a RuntimeError.\n",
      "  warnings.warn(msg)\n"
     ]
    }
   ],
   "source": [
    "import sys; sys.path.append('../')\n",
    "\n",
    "import time\n",
    "\n",
    "from src.data_loader import load_data\n",
    "\n",
    "import numpy as np\n",
    "import pandas as pd\n",
    "from matplotlib import pyplot as plt\n",
    "\n",
    "from sklearn.metrics import confusion_matrix, classification_report\n",
    "from sklearn.model_selection import StratifiedKFold\n",
    "\n",
    "import warnings\n",
    "warnings.filterwarnings('ignore')"
   ]
  },
  {
   "cell_type": "code",
   "execution_count": 2,
   "metadata": {},
   "outputs": [],
   "source": [
    "plt.rcParams[\"figure.figsize\"] = (20,10)"
   ]
  },
  {
   "cell_type": "markdown",
   "metadata": {},
   "source": [
    "# Try to binarize"
   ]
  },
  {
   "cell_type": "code",
   "execution_count": 3,
   "metadata": {},
   "outputs": [],
   "source": [
    "clusters, _ = load_data('../data/all_clusters.txt')\n",
    "clusters = clusters.drop(['file_origin', 'file_destination'], axis=1)"
   ]
  },
  {
   "cell_type": "code",
   "execution_count": 4,
   "metadata": {},
   "outputs": [],
   "source": [
    "#Delete columns with one value\n",
    "for col in clusters.columns:\n",
    "    if len(clusters[col].unique()) == 1:\n",
    "        clusters.drop(col,inplace=True,axis=1)\n",
    "\n",
    "        #Delete columns with one value\n",
    "for col in clusters.columns:\n",
    "    if len(clusters[col].unique()) == 1:\n",
    "        clusters.drop(col,inplace=True,axis=1)\n",
    "\n",
    "clusters['classification'] = (\n",
    "    ((clusters['classification'] != 'Vegetation') & (clusters['classification'] != 'Limit_effect'))\n",
    ")"
   ]
  },
  {
   "cell_type": "code",
   "execution_count": 5,
   "metadata": {},
   "outputs": [],
   "source": [
    "data = clusters.replace('None', np.nan).dropna(axis=0)\n",
    "\n",
    "X = data.drop('classification', axis=1)\n",
    "X = (X - X.mean()) / X.std()\n",
    "y = data['classification']"
   ]
  },
  {
   "cell_type": "code",
   "execution_count": 10,
   "metadata": {},
   "outputs": [],
   "source": [
    "from sklearn.cluster import KMeans\n",
    "\n",
    "def resample(X, y):\n",
    "    class_counts = y.value_counts().to_dict()\n",
    "    mayority_class = max(class_counts, key=class_counts.get)\n",
    "    mayority_class_index = y[y == mayority_class].index\n",
    "\n",
    "    num_clusters = min(class_counts.values())\n",
    "\n",
    "    clusters = KMeans(n_clusters=num_clusters)\\\n",
    "                    .fit(X.loc[mayority_class_index])\\\n",
    "                    .cluster_centers_\n",
    "    \n",
    "    closest_indices = [\n",
    "        np.argmin([np.linalg.norm(c - e) for e in X.loc[mayority_class_index].values])\n",
    "        for c in clusters\n",
    "    ]\n",
    "    representatives = X.iloc[closest_indices]\n",
    "\n",
    "    y_train = y.drop(mayority_class_index)\n",
    "    X_train = X.drop(mayority_class_index)\n",
    "\n",
    "    X = pd.concat([X, representatives])\n",
    "    y = pd.concat([y, pd.Series([mayority_class for _ in range(len(representatives))])])\n",
    "    \n",
    "    return X, y"
   ]
  },
  {
   "cell_type": "code",
   "execution_count": 7,
   "metadata": {},
   "outputs": [],
   "source": [
    "from sklearn.discriminant_analysis import LinearDiscriminantAnalysis\n",
    "from sklearn.neighbors import KNeighborsClassifier, RadiusNeighborsClassifier\n",
    "from sklearn.naive_bayes import GaussianNB\n",
    "from sklearn.tree import DecisionTreeClassifier, ExtraTreeClassifier\n",
    "from sklearn.ensemble import (AdaBoostClassifier, BaggingClassifier, ExtraTreesClassifier,\n",
    "                              GradientBoostingClassifier, RandomForestClassifier, VotingClassifier)\n",
    "from sklearn.svm import SVC\n",
    "models = [\n",
    "    LinearDiscriminantAnalysis, KNeighborsClassifier, GaussianNB,\n",
    "    DecisionTreeClassifier, AdaBoostClassifier,\n",
    "    RandomForestClassifier, SVC, ExtraTreesClassifier\n",
    "]"
   ]
  },
  {
   "cell_type": "code",
   "execution_count": 12,
   "metadata": {},
   "outputs": [],
   "source": [
    "splitter = StratifiedKFold(n_splits=10, shuffle=True, random_state=40)\n",
    "\n",
    "bar_plot = []\n",
    "for train_index, test_index in splitter.split(X, y):\n",
    "    X_train, y_train = resample(X.iloc[train_index], y.iloc[train_index])\n",
    "    X_test, y_test = X.iloc[test_index], y.iloc[test_index]\n",
    "    \n",
    "    performances = []\n",
    "    for Model in models:\n",
    "        try:\n",
    "            model = Model()\n",
    "            model.fit(X_train, y_train)\n",
    "\n",
    "            y_pred = model.predict(X_test)\n",
    "            performances.append([\n",
    "                Model.__name__, len(y_pred),\n",
    "                sum(y_pred), sum(y_test),\n",
    "                sum(y_test & y_pred),\n",
    "                classification_report(y_test, y_pred, output_dict=True)\n",
    "            ])\n",
    "        except Exception as e:\n",
    "            print(e)\n",
    "    bar_plot.append(performances)"
   ]
  },
  {
   "cell_type": "code",
   "execution_count": 13,
   "metadata": {},
   "outputs": [],
   "source": [
    "THRESHOLD = 0.7\n",
    "\n",
    "ground_truth = bar_plot[0][0][3]\n",
    "\n",
    "tp_tfs, tp_tfs_err, tps, tps_err, f1s, f1s_err = [], [], [], [], [], []\n",
    "for model_index, model in enumerate([e[0] for e in bar_plot[0]]):\n",
    "    tp_fp, tp, f1 = [], [], []\n",
    "    for split in bar_plot:\n",
    "        tp_fp.append(split[model_index][2])\n",
    "        tp.append(split[model_index][4])\n",
    "        f1.append(split[model_index][-1]['True']['f1-score']) \n",
    "\n",
    "    tp_tfs.append(np.array(tp_fp).mean())\n",
    "    tp_tfs_err.append(np.array(tp_fp).std())\n",
    "    tps.append(np.array(tp).mean())\n",
    "    tps_err.append(np.array(tp).std())\n",
    "    \n",
    "    if (tps[-1] / ground_truth) >= THRESHOLD:\n",
    "        f1s.append(np.array(f1).mean())\n",
    "        f1s_err.append(np.array(f1).std()) \n",
    "    else:\n",
    "        f1s.append(0)\n",
    "        f1s_err.append(0)"
   ]
  },
  {
   "cell_type": "code",
   "execution_count": 14,
   "metadata": {},
   "outputs": [],
   "source": [
    "import pickle\n",
    "with open('cluster_representatives.pickle', 'wb') as fh:\n",
    "    pickle.dump(\n",
    "        {\n",
    "            'ground_truth': bar_plot[0][0][3],\n",
    "            'tp_tfs': tp_tfs,\n",
    "            'tp_tfs_err': tp_tfs_err,\n",
    "            'tps': tps,\n",
    "            'tps_err': tps_err,\n",
    "            'labels': [e[0] for e in bar_plot[0]]\n",
    "        }, fh\n",
    "    )"
   ]
  },
  {
   "cell_type": "code",
   "execution_count": 15,
   "metadata": {},
   "outputs": [
    {
     "data": {
      "image/png": "[encoded data removed]",
      "text/plain": [
       "<Figure size 1440x720 with 1 Axes>"
      ]
     },
     "metadata": {
      "needs_background": "light"
     },
     "output_type": "display_data"
    }
   ],
   "source": [
    "from src.utils.visualization import plot_trues\n",
    "\n",
    "ground_truth = bar_plot[0][0][3]\n",
    "labels = [e[0] for e in bar_plot[0]]\n",
    "plot_trues(\n",
    "    tps=tps, tps_tfs=tp_tfs, gt=ground_truth,\n",
    "    labels=labels, tps_err=tps_err, tps_tfs_err=tp_tfs_err\n",
    ")"
   ]
  }
 ],
 "metadata": {
  "kernelspec": {
   "display_name": "Python 3",
   "language": "python",
   "name": "python3"
  },
  "language_info": {
   "codemirror_mode": {
    "name": "ipython",
    "version": 3
   },
   "file_extension": ".py",
   "mimetype": "text/x-python",
   "name": "python",
   "nbconvert_exporter": "python",
   "pygments_lexer": "ipython3",
   "version": "3.7.2"
  }
 },
 "nbformat": 4,
 "nbformat_minor": 2
}
